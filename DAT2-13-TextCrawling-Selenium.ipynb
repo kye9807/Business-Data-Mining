{
 "cells": [
  {
   "cell_type": "markdown",
   "metadata": {},
   "source": [
    "- 윈도우 크롬드라이버 설치 방안\n",
    "- https://m.blog.naver.com/jsk6824/221763151860\n",
    "\n",
    "- 맥에서 크롬드라이버 설치 방안\n",
    "- http://www.epistemology.pe.kr/2018/09/25/1153\n",
    "- (Homebrew 설치 필요: 터미널에서 \n",
    "\n",
    "/bin/bash -c \"$(curl -fsSL https://raw.githubusercontent.com/Homebrew/install/master/install.sh)\"\n",
    "\n",
    "입력)"
   ]
  },
  {
   "cell_type": "markdown",
   "metadata": {},
   "source": [
    "### 파이썬에서 크롬 브라우저 제어\n",
    "\n",
    "- 크롬 브라우저 시작"
   ]
  },
  {
   "cell_type": "code",
   "execution_count": 59,
   "metadata": {},
   "outputs": [],
   "source": [
    "from selenium import webdriver  # selenium 프레임 워크에서 webdriver 가져오기\n",
    "url = 'http://naver.com'        # 접속할 웹 사이트 주소 (네이버)\n",
    "driver = webdriver.Chrome('chromedriver')  # 크롬 드라이버로 크롬 켜기, 자기 컴퓨터의 chromedriver 경로로 수정할 것\n",
    "driver.get(url)                 # 저장한 url 주소로 이동"
   ]
  },
  {
   "cell_type": "markdown",
   "metadata": {},
   "source": [
    "- 스타벅스 메뉴 가져오기\n",
    "- https://velog.io/@kho5420/Python-Web-Crawling-Web-Scraping 참조"
   ]
  },
  {
   "cell_type": "code",
   "execution_count": 60,
   "metadata": {},
   "outputs": [],
   "source": [
    "import csv\n",
    "import time\n",
    "from bs4 import BeautifulSoup\n",
    "from selenium import webdriver\n",
    "\n",
    "filename = \"data/Starbucks_scraping.csv\"\n",
    "csv_file = open(filename, \"w+\", encoding=\"utf-8-sig\")\n",
    "writer = csv.writer(csv_file)"
   ]
  },
  {
   "cell_type": "code",
   "execution_count": 64,
   "metadata": {},
   "outputs": [],
   "source": [
    "url = \"https://www.starbucks.co.kr\"\n",
    "res = webdriver.Chrome('chromedriver') #Chrome('크롬드라이버경로')\n",
    "res.get(url)\n",
    "time.sleep(3)  # 3초간 대기\n",
    "res.find_element_by_xpath(\"//*[@id='gnb']/div/nav/div/ul/li[2]/h2/a\").click()\n",
    "time.sleep(1) # 1초간 대기\n",
    "res.find_element_by_xpath(\"//*[@id='container']/div[6]/div/div[2]/a\").click()"
   ]
  },
  {
   "cell_type": "code",
   "execution_count": 53,
   "metadata": {},
   "outputs": [],
   "source": [
    "html = res.page_source\n",
    "soup = BeautifulSoup(html, 'html.parser')\n",
    "\n",
    "items = soup.find_all('li', {\"class\":\"menuDataSet\"})\n",
    "\n",
    "for item in items:\n",
    "    temp = item.find('img')\n",
    "    item_img_url = temp['src']\n",
    "    item_name = temp['alt']\n",
    "    \n",
    "    product = (item_name, item_img_url)\n",
    "    writer.writerow(product)\n",
    "\n",
    "csv_file.close()"
   ]
  },
  {
   "cell_type": "code",
   "execution_count": 54,
   "metadata": {},
   "outputs": [
    {
     "data": {
      "text/html": [
       "<div>\n",
       "<style scoped>\n",
       "    .dataframe tbody tr th:only-of-type {\n",
       "        vertical-align: middle;\n",
       "    }\n",
       "\n",
       "    .dataframe tbody tr th {\n",
       "        vertical-align: top;\n",
       "    }\n",
       "\n",
       "    .dataframe thead th {\n",
       "        text-align: right;\n",
       "    }\n",
       "</style>\n",
       "<table border=\"1\" class=\"dataframe\">\n",
       "  <thead>\n",
       "    <tr style=\"text-align: right;\">\n",
       "      <th></th>\n",
       "      <th>Menu</th>\n",
       "      <th>Image</th>\n",
       "    </tr>\n",
       "  </thead>\n",
       "  <tbody>\n",
       "    <tr>\n",
       "      <th>0</th>\n",
       "      <td>나이트로 바닐라 크림</td>\n",
       "      <td>https://image.istarbucks.co.kr/upload/store/sk...</td>\n",
       "    </tr>\n",
       "    <tr>\n",
       "      <th>1</th>\n",
       "      <td>나이트로 쇼콜라 클라우드</td>\n",
       "      <td>https://image.istarbucks.co.kr/upload/store/sk...</td>\n",
       "    </tr>\n",
       "    <tr>\n",
       "      <th>2</th>\n",
       "      <td>나이트로 콜드 브루</td>\n",
       "      <td>https://image.istarbucks.co.kr/upload/store/sk...</td>\n",
       "    </tr>\n",
       "    <tr>\n",
       "      <th>3</th>\n",
       "      <td>돌체 콜드 브루</td>\n",
       "      <td>https://image.istarbucks.co.kr/upload/store/sk...</td>\n",
       "    </tr>\n",
       "    <tr>\n",
       "      <th>4</th>\n",
       "      <td>바닐라 크림 콜드 브루</td>\n",
       "      <td>https://image.istarbucks.co.kr/upload/store/sk...</td>\n",
       "    </tr>\n",
       "  </tbody>\n",
       "</table>\n",
       "</div>"
      ],
      "text/plain": [
       "            Menu                                              Image\n",
       "0    나이트로 바닐라 크림  https://image.istarbucks.co.kr/upload/store/sk...\n",
       "1  나이트로 쇼콜라 클라우드  https://image.istarbucks.co.kr/upload/store/sk...\n",
       "2     나이트로 콜드 브루  https://image.istarbucks.co.kr/upload/store/sk...\n",
       "3       돌체 콜드 브루  https://image.istarbucks.co.kr/upload/store/sk...\n",
       "4   바닐라 크림 콜드 브루  https://image.istarbucks.co.kr/upload/store/sk..."
      ]
     },
     "execution_count": 54,
     "metadata": {},
     "output_type": "execute_result"
    }
   ],
   "source": [
    "import pandas as pd\n",
    "\n",
    "star = pd.read_csv(\"data/Starbucks_scraping.csv\", names=['Menu','Image'])\n",
    "star.head()"
   ]
  },
  {
   "cell_type": "markdown",
   "metadata": {},
   "source": [
    "- 아모레퍼시픽몰 리뷰 수집"
   ]
  },
  {
   "cell_type": "code",
   "execution_count": 65,
   "metadata": {},
   "outputs": [],
   "source": [
    "import csv\n",
    "import time\n",
    "from bs4 import BeautifulSoup\n",
    "from selenium import webdriver\n",
    "\n",
    "filename = \"data/amorepacific_scraping.csv\"\n",
    "csv_file = open(filename, \"w+\", encoding=\"utf-8-sig\")\n",
    "writer = csv.writer(csv_file)"
   ]
  },
  {
   "cell_type": "code",
   "execution_count": 66,
   "metadata": {},
   "outputs": [],
   "source": [
    "# 한율 > [리미티드/대용량] 빨간쌀 진액스킨 200ml\n",
    "url = \"https://www.amorepacificmall.com/kr/ko/product/detail?onlineProdSn=39901&onlineProdCode=111650000419\"\n",
    "res = webdriver.Chrome('chromedriver')\n",
    "res.get(url)\n",
    "time.sleep(3)  # 3초간 대기\n",
    "res.find_element_by_xpath(\"//*[@id='productReview']/button\").click()\n",
    "time.sleep(1) # 1초간 대기\n",
    "# 처음에 리뷰가 10개만 나옴\n",
    "# 총 리뷰가 몇 개인지 파악해 모든 리뷰가 나오게 '더보기'를 클릭함\n",
    "script = res.find_element_by_xpath(\"//*[@id='ap_container']/div/div[3]/div[2]/div[2]/div[1]/div[1]/div[2]/div/p[2]\").text\n",
    "click_num = int(script.split('명')[0])//10\n",
    "\n",
    "for i in range(click_num):\n",
    "    res.find_element_by_xpath(\"//*[@id='ap_container']/div/div[3]/div[2]/div[2]/div[2]/div[4]/a\").click()\n",
    "    time.sleep(1) # 1초간 대기"
   ]
  },
  {
   "cell_type": "code",
   "execution_count": 57,
   "metadata": {},
   "outputs": [],
   "source": [
    "html = res.page_source\n",
    "soup = BeautifulSoup(html, 'html.parser')\n",
    "\n",
    "items = soup.find_all('div', {\"class\":\"review_box\"})\n",
    "\n",
    "for item in items:\n",
    "    rating = item.find('span', {'class' : 'sr_only'}).text\n",
    "    review_rating = rating.split('중 ')[1].split('개')[0]\n",
    "    review_date = item.find('span', {'class' : 'date'}).text\n",
    "    review_text = item.find('div', {'class' : 'comment'}).text\n",
    "    \n",
    "    product = (review_rating, review_date, review_text)\n",
    "    writer.writerow(product)\n",
    "\n",
    "csv_file.close()"
   ]
  },
  {
   "cell_type": "code",
   "execution_count": 58,
   "metadata": {},
   "outputs": [
    {
     "data": {
      "text/html": [
       "<div>\n",
       "<style scoped>\n",
       "    .dataframe tbody tr th:only-of-type {\n",
       "        vertical-align: middle;\n",
       "    }\n",
       "\n",
       "    .dataframe tbody tr th {\n",
       "        vertical-align: top;\n",
       "    }\n",
       "\n",
       "    .dataframe thead th {\n",
       "        text-align: right;\n",
       "    }\n",
       "</style>\n",
       "<table border=\"1\" class=\"dataframe\">\n",
       "  <thead>\n",
       "    <tr style=\"text-align: right;\">\n",
       "      <th></th>\n",
       "      <th>Rating</th>\n",
       "      <th>Date</th>\n",
       "      <th>Review</th>\n",
       "    </tr>\n",
       "  </thead>\n",
       "  <tbody>\n",
       "    <tr>\n",
       "      <th>0</th>\n",
       "      <td>5</td>\n",
       "      <td>2020.10.22</td>\n",
       "      <td>\\n육아 핑계로 화장품 안바른날이 너무 많았고\\n한율프로모션 제철도시락 리미트드 사...</td>\n",
       "    </tr>\n",
       "    <tr>\n",
       "      <th>1</th>\n",
       "      <td>4</td>\n",
       "      <td>2020.10.21</td>\n",
       "      <td>\\n리미티드 대용량이라 하나 더 구매해놨어요 펌핑용기로 계속 나오면 좋겠어요\\n더읽...</td>\n",
       "    </tr>\n",
       "    <tr>\n",
       "      <th>2</th>\n",
       "      <td>5</td>\n",
       "      <td>2020.10.21</td>\n",
       "      <td>\\n한율 빨간쌀 진액 스킨 잘 쓰고 있는데 다 써가서 다시 주문했어요. 대용량으로 ...</td>\n",
       "    </tr>\n",
       "    <tr>\n",
       "      <th>3</th>\n",
       "      <td>4</td>\n",
       "      <td>2020.10.21</td>\n",
       "      <td>\\n가을되니 기존스킨케어로는 부족해서 건조했는데 빨간쌀 진액스킨을 알아보니 딱일듯 ...</td>\n",
       "    </tr>\n",
       "    <tr>\n",
       "      <th>4</th>\n",
       "      <td>5</td>\n",
       "      <td>2020.10.20</td>\n",
       "      <td>\\n엄마께 사드렸어요~~촉촉하니 좋다고 하시네요^^\\n더읽기\\n닫기\\n</td>\n",
       "    </tr>\n",
       "  </tbody>\n",
       "</table>\n",
       "</div>"
      ],
      "text/plain": [
       "   Rating        Date                                             Review\n",
       "0       5  2020.10.22  \\n육아 핑계로 화장품 안바른날이 너무 많았고\\n한율프로모션 제철도시락 리미트드 사...\n",
       "1       4  2020.10.21  \\n리미티드 대용량이라 하나 더 구매해놨어요 펌핑용기로 계속 나오면 좋겠어요\\n더읽...\n",
       "2       5  2020.10.21  \\n한율 빨간쌀 진액 스킨 잘 쓰고 있는데 다 써가서 다시 주문했어요. 대용량으로 ...\n",
       "3       4  2020.10.21  \\n가을되니 기존스킨케어로는 부족해서 건조했는데 빨간쌀 진액스킨을 알아보니 딱일듯 ...\n",
       "4       5  2020.10.20            \\n엄마께 사드렸어요~~촉촉하니 좋다고 하시네요^^\\n더읽기\\n닫기\\n"
      ]
     },
     "execution_count": 58,
     "metadata": {},
     "output_type": "execute_result"
    }
   ],
   "source": [
    "import pandas as pd\n",
    "\n",
    "star = pd.read_csv(\"data/amorepacific_scraping.csv\", names=['Rating', 'Date','Review'])\n",
    "star.head()"
   ]
  }
 ],
 "metadata": {
  "kernelspec": {
   "display_name": "Python 3",
   "language": "python",
   "name": "python3"
  },
  "language_info": {
   "codemirror_mode": {
    "name": "ipython",
    "version": 3
   },
   "file_extension": ".py",
   "mimetype": "text/x-python",
   "name": "python",
   "nbconvert_exporter": "python",
   "pygments_lexer": "ipython3",
   "version": "3.8.3"
  }
 },
 "nbformat": 4,
 "nbformat_minor": 2
}
