{
 "cells": [
  {
   "cell_type": "markdown",
   "metadata": {},
   "source": [
    "## Logistic Regression 개념 "
   ]
  },
  {
   "cell_type": "code",
   "execution_count": 6,
   "metadata": {},
   "outputs": [],
   "source": [
    "import pandas as pd\n",
    "import numpy as np\n",
    "from sklearn.linear_model import LogisticRegression\n",
    "import matplotlib.pyplot as plt"
   ]
  },
  {
   "cell_type": "code",
   "execution_count": 4,
   "metadata": {},
   "outputs": [],
   "source": [
    "customer = pd.read_csv(\"data/customerChurn.csv\")"
   ]
  },
  {
   "cell_type": "code",
   "execution_count": 5,
   "metadata": {},
   "outputs": [
    {
     "data": {
      "text/html": [
       "<div>\n",
       "<style scoped>\n",
       "    .dataframe tbody tr th:only-of-type {\n",
       "        vertical-align: middle;\n",
       "    }\n",
       "\n",
       "    .dataframe tbody tr th {\n",
       "        vertical-align: top;\n",
       "    }\n",
       "\n",
       "    .dataframe thead th {\n",
       "        text-align: right;\n",
       "    }\n",
       "</style>\n",
       "<table border=\"1\" class=\"dataframe\">\n",
       "  <thead>\n",
       "    <tr style=\"text-align: right;\">\n",
       "      <th></th>\n",
       "      <th>sex</th>\n",
       "      <th>age</th>\n",
       "      <th>Recency</th>\n",
       "      <th>Frequency</th>\n",
       "      <th>Monetary</th>\n",
       "      <th>Churn</th>\n",
       "    </tr>\n",
       "  </thead>\n",
       "  <tbody>\n",
       "    <tr>\n",
       "      <th>0</th>\n",
       "      <td>M</td>\n",
       "      <td>11</td>\n",
       "      <td>4</td>\n",
       "      <td>41</td>\n",
       "      <td>1268981</td>\n",
       "      <td>No</td>\n",
       "    </tr>\n",
       "    <tr>\n",
       "      <th>1</th>\n",
       "      <td>M</td>\n",
       "      <td>10</td>\n",
       "      <td>18</td>\n",
       "      <td>15</td>\n",
       "      <td>843996</td>\n",
       "      <td>No</td>\n",
       "    </tr>\n",
       "    <tr>\n",
       "      <th>2</th>\n",
       "      <td>F</td>\n",
       "      <td>38</td>\n",
       "      <td>16</td>\n",
       "      <td>41</td>\n",
       "      <td>1755623</td>\n",
       "      <td>No</td>\n",
       "    </tr>\n",
       "    <tr>\n",
       "      <th>3</th>\n",
       "      <td>M</td>\n",
       "      <td>13</td>\n",
       "      <td>8</td>\n",
       "      <td>14</td>\n",
       "      <td>862172</td>\n",
       "      <td>No</td>\n",
       "    </tr>\n",
       "    <tr>\n",
       "      <th>4</th>\n",
       "      <td>F</td>\n",
       "      <td>20</td>\n",
       "      <td>22</td>\n",
       "      <td>42</td>\n",
       "      <td>748430</td>\n",
       "      <td>No</td>\n",
       "    </tr>\n",
       "  </tbody>\n",
       "</table>\n",
       "</div>"
      ],
      "text/plain": [
       "  sex  age  Recency  Frequency  Monetary Churn\n",
       "0   M   11        4         41   1268981    No\n",
       "1   M   10       18         15    843996    No\n",
       "2   F   38       16         41   1755623    No\n",
       "3   M   13        8         14    862172    No\n",
       "4   F   20       22         42    748430    No"
      ]
     },
     "execution_count": 5,
     "metadata": {},
     "output_type": "execute_result"
    }
   ],
   "source": [
    "customer.head()"
   ]
  },
  {
   "cell_type": "code",
   "execution_count": 12,
   "metadata": {},
   "outputs": [],
   "source": [
    "X = customer[['Frequency']]\n",
    "y = (customer[\"Churn\"] == 'Yes').astype(np.int) # Yes면 1 No 면 0"
   ]
  },
  {
   "cell_type": "code",
   "execution_count": 13,
   "metadata": {},
   "outputs": [
    {
     "data": {
      "text/plain": [
       "LogisticRegression(C=1.0, class_weight=None, dual=False, fit_intercept=True,\n",
       "                   intercept_scaling=1, l1_ratio=None, max_iter=100,\n",
       "                   multi_class='auto', n_jobs=None, penalty='l2',\n",
       "                   random_state=None, solver='lbfgs', tol=0.0001, verbose=0,\n",
       "                   warm_start=False)"
      ]
     },
     "execution_count": 13,
     "metadata": {},
     "output_type": "execute_result"
    }
   ],
   "source": [
    "log_reg = LogisticRegression()\n",
    "log_reg.fit(X,y)"
   ]
  },
  {
   "cell_type": "code",
   "execution_count": 14,
   "metadata": {},
   "outputs": [
    {
     "data": {
      "text/html": [
       "<div>\n",
       "<style scoped>\n",
       "    .dataframe tbody tr th:only-of-type {\n",
       "        vertical-align: middle;\n",
       "    }\n",
       "\n",
       "    .dataframe tbody tr th {\n",
       "        vertical-align: top;\n",
       "    }\n",
       "\n",
       "    .dataframe thead th {\n",
       "        text-align: right;\n",
       "    }\n",
       "</style>\n",
       "<table border=\"1\" class=\"dataframe\">\n",
       "  <thead>\n",
       "    <tr style=\"text-align: right;\">\n",
       "      <th></th>\n",
       "      <th>Frequency</th>\n",
       "    </tr>\n",
       "  </thead>\n",
       "  <tbody>\n",
       "    <tr>\n",
       "      <th>count</th>\n",
       "      <td>5000.000000</td>\n",
       "    </tr>\n",
       "    <tr>\n",
       "      <th>mean</th>\n",
       "      <td>19.375200</td>\n",
       "    </tr>\n",
       "    <tr>\n",
       "      <th>std</th>\n",
       "      <td>13.256922</td>\n",
       "    </tr>\n",
       "    <tr>\n",
       "      <th>min</th>\n",
       "      <td>2.000000</td>\n",
       "    </tr>\n",
       "    <tr>\n",
       "      <th>25%</th>\n",
       "      <td>9.000000</td>\n",
       "    </tr>\n",
       "    <tr>\n",
       "      <th>50%</th>\n",
       "      <td>16.000000</td>\n",
       "    </tr>\n",
       "    <tr>\n",
       "      <th>75%</th>\n",
       "      <td>28.000000</td>\n",
       "    </tr>\n",
       "    <tr>\n",
       "      <th>max</th>\n",
       "      <td>50.000000</td>\n",
       "    </tr>\n",
       "  </tbody>\n",
       "</table>\n",
       "</div>"
      ],
      "text/plain": [
       "         Frequency\n",
       "count  5000.000000\n",
       "mean     19.375200\n",
       "std      13.256922\n",
       "min       2.000000\n",
       "25%       9.000000\n",
       "50%      16.000000\n",
       "75%      28.000000\n",
       "max      50.000000"
      ]
     },
     "execution_count": 14,
     "metadata": {},
     "output_type": "execute_result"
    }
   ],
   "source": [
    "X.describe()"
   ]
  },
  {
   "cell_type": "code",
   "execution_count": 16,
   "metadata": {},
   "outputs": [
    {
     "data": {
      "text/plain": [
       "[<matplotlib.lines.Line2D at 0x7ff939980400>]"
      ]
     },
     "execution_count": 16,
     "metadata": {},
     "output_type": "execute_result"
    },
    {
     "data": {
      "image/png": "[encoded data removed]",
      "text/plain": [
       "<Figure size 432x288 with 1 Axes>"
      ]
     },
     "metadata": {
      "needs_background": "light"
     },
     "output_type": "display_data"
    }
   ],
   "source": [
    "X_new = np.linspace(6,32,1000).reshape(-1,1)\n",
    "y_proba = log_reg.predict_proba(X_new)\n",
    "plt.plot(X_new, y_proba[:,1], \"g-\", label=\"Yes\")\n",
    "plt.plot(X_new, y_proba[:,0], \"b--\", label=\"No\")"
   ]
  },
  {
   "cell_type": "code",
   "execution_count": 79,
   "metadata": {},
   "outputs": [],
   "source": [
    "X = customer[['Frequency','Recency']]\n",
    "y = (customer[\"Churn\"] == 'Yes').astype(np.int) # Yes면 1 No 면 0"
   ]
  },
  {
   "cell_type": "code",
   "execution_count": 80,
   "metadata": {},
   "outputs": [
    {
     "data": {
      "text/plain": [
       "LogisticRegression(C=1.0, class_weight=None, dual=False, fit_intercept=True,\n",
       "                   intercept_scaling=1, l1_ratio=None, max_iter=100,\n",
       "                   multi_class='auto', n_jobs=None, penalty='l2',\n",
       "                   random_state=None, solver='lbfgs', tol=0.0001, verbose=0,\n",
       "                   warm_start=False)"
      ]
     },
     "execution_count": 80,
     "metadata": {},
     "output_type": "execute_result"
    }
   ],
   "source": [
    "log_reg = LogisticRegression()\n",
    "log_reg.fit(X,y)"
   ]
  },
  {
   "cell_type": "code",
   "execution_count": 81,
   "metadata": {},
   "outputs": [
    {
     "name": "stderr",
     "output_type": "stream",
     "text": [
      "/Users/fastbat/anaconda3/lib/python3.6/site-packages/ipykernel_launcher.py:2: SettingWithCopyWarning: \n",
      "A value is trying to be set on a copy of a slice from a DataFrame.\n",
      "Try using .loc[row_indexer,col_indexer] = value instead\n",
      "\n",
      "See the caveats in the documentation: http://pandas.pydata.org/pandas-docs/stable/indexing.html#indexing-view-versus-copy\n",
      "  \n"
     ]
    },
    {
     "data": {
      "text/plain": [
       "Text(0, 0.5, 'Purchase Recency')"
      ]
     },
     "execution_count": 81,
     "metadata": {},
     "output_type": "execute_result"
    },
    {
     "data": {
      "image/png": "[encoded data removed]",
      "text/plain": [
       "<Figure size 432x288 with 1 Axes>"
      ]
     },
     "metadata": {
      "needs_background": "light"
     },
     "output_type": "display_data"
    }
   ],
   "source": [
    "y_predict = log_reg.predict(X)\n",
    "X['predict'] = y_predict\n",
    "X_1 = X[X['predict']==1].copy()\n",
    "X_0 = X[X['predict']==0].copy()\n",
    "plt.plot(X_1['Frequency'], X_1['Recency'], 'bo')\n",
    "plt.plot(X_0['Frequency'], X_0['Recency'], 'ro')\n",
    "plt.xlabel('Purchase Frequency')\n",
    "plt.ylabel('Purchase Recency')"
   ]
  },
  {
   "cell_type": "markdown",
   "metadata": {},
   "source": [
    "## 계수값 확인 "
   ]
  },
  {
   "cell_type": "code",
   "execution_count": 84,
   "metadata": {},
   "outputs": [
    {
     "name": "stdout",
     "output_type": "stream",
     "text": [
      "Optimization terminated successfully.\n",
      "         Current function value: 0.146362\n",
      "         Iterations 9\n",
      "                         Results: Logit\n",
      "================================================================\n",
      "Model:              Logit            Pseudo R-squared: 0.789    \n",
      "Dependent Variable: Churn            AIC:              1469.6236\n",
      "Date:               2020-08-18 19:45 BIC:              1489.1752\n",
      "No. Observations:   5000             Log-Likelihood:   -731.81  \n",
      "Df Model:           2                LL-Null:          -3465.7  \n",
      "Df Residuals:       4997             LLR p-value:      0.0000   \n",
      "Converged:          1.0000           Scale:            1.0000   \n",
      "No. Iterations:     9.0000                                      \n",
      "-----------------------------------------------------------------\n",
      "             Coef.   Std.Err.     z      P>|z|    [0.025   0.975]\n",
      "-----------------------------------------------------------------\n",
      "Frequency   -0.1721    0.0086  -19.9131  0.0000  -0.1890  -0.1551\n",
      "Recency      0.3118    0.0112   27.9123  0.0000   0.2899   0.3337\n",
      "Monetary    -0.0000    0.0000  -19.5408  0.0000  -0.0000  -0.0000\n",
      "================================================================\n",
      "\n"
     ]
    }
   ],
   "source": [
    "import statsmodels.api as sm\n",
    "\n",
    "X = customer[['Frequency','Recency','Monetary']]\n",
    "y = (customer[\"Churn\"] == 'Yes').astype(np.int)\n",
    "\n",
    "logit_model=sm.Logit(y,X)\n",
    "result=logit_model.fit()\n",
    "print(result.summary2())"
   ]
  },
  {
   "cell_type": "markdown",
   "metadata": {},
   "source": [
    "## 로지스틱 회귀분석 성과 측정"
   ]
  },
  {
   "cell_type": "code",
   "execution_count": 85,
   "metadata": {},
   "outputs": [
    {
     "name": "stdout",
     "output_type": "stream",
     "text": [
      "학습 집합 정확도: 0.874\n",
      "테스트 집합 정확도: 0.867\n"
     ]
    }
   ],
   "source": [
    "from sklearn.model_selection import train_test_split\n",
    "\n",
    "X = customer[['Frequency','Recency']]\n",
    "y = (customer[\"Churn\"] == 'Yes').astype(np.int) \n",
    "\n",
    "X_train, X_test, y_train, y_test = train_test_split(X, y, test_size=0.3) \n",
    "\n",
    "log_reg = LogisticRegression().fit(X_train, y_train)\n",
    "\n",
    "print(\"학습 집합 정확도: {:.3f}\".format(log_reg.score(X_train, y_train)))\n",
    "print(\"테스트 집합 정확도: {:.3f}\".format(log_reg.score(X_test, y_test)))"
   ]
  },
  {
   "cell_type": "markdown",
   "metadata": {},
   "source": [
    "### 다항 로지스틱스 회귀 (소프트맥스 회귀)"
   ]
  },
  {
   "cell_type": "code",
   "execution_count": 1,
   "metadata": {},
   "outputs": [],
   "source": [
    "import pandas as pd\n",
    "import numpy as np\n",
    "import matplotlib.pyplot as plt\n",
    "from sklearn.linear_model import LogisticRegression\n",
    "from sklearn.model_selection import train_test_split\n",
    "\n",
    "telecom = pd.read_csv(\"data/telecom.csv\")"
   ]
  },
  {
   "cell_type": "code",
   "execution_count": 2,
   "metadata": {},
   "outputs": [
    {
     "data": {
      "text/html": [
       "<div>\n",
       "<style scoped>\n",
       "    .dataframe tbody tr th:only-of-type {\n",
       "        vertical-align: middle;\n",
       "    }\n",
       "\n",
       "    .dataframe tbody tr th {\n",
       "        vertical-align: top;\n",
       "    }\n",
       "\n",
       "    .dataframe thead th {\n",
       "        text-align: right;\n",
       "    }\n",
       "</style>\n",
       "<table border=\"1\" class=\"dataframe\">\n",
       "  <thead>\n",
       "    <tr style=\"text-align: right;\">\n",
       "      <th></th>\n",
       "      <th>ID</th>\n",
       "      <th>LONGDIST</th>\n",
       "      <th>International</th>\n",
       "      <th>LOCAL</th>\n",
       "      <th>DROPPED</th>\n",
       "      <th>PAY_MTHD</th>\n",
       "      <th>LocalBillType</th>\n",
       "      <th>LongDistanceBillType</th>\n",
       "      <th>AGE</th>\n",
       "      <th>SEX</th>\n",
       "      <th>STATUS</th>\n",
       "      <th>CHILDREN</th>\n",
       "      <th>Est_Income</th>\n",
       "      <th>Car_Owner</th>\n",
       "      <th>CHURNED</th>\n",
       "    </tr>\n",
       "  </thead>\n",
       "  <tbody>\n",
       "    <tr>\n",
       "      <th>0</th>\n",
       "      <td>0</td>\n",
       "      <td>5.24640</td>\n",
       "      <td>7.51510</td>\n",
       "      <td>86.32780</td>\n",
       "      <td>0</td>\n",
       "      <td>CH</td>\n",
       "      <td>FreeLocal</td>\n",
       "      <td>Standard</td>\n",
       "      <td>57</td>\n",
       "      <td>F</td>\n",
       "      <td>M</td>\n",
       "      <td>2</td>\n",
       "      <td>27535.3</td>\n",
       "      <td>Y</td>\n",
       "      <td>Vol</td>\n",
       "    </tr>\n",
       "    <tr>\n",
       "      <th>1</th>\n",
       "      <td>3</td>\n",
       "      <td>0.00000</td>\n",
       "      <td>0.00000</td>\n",
       "      <td>3.94229</td>\n",
       "      <td>0</td>\n",
       "      <td>CC</td>\n",
       "      <td>Budget</td>\n",
       "      <td>Intnl_discount</td>\n",
       "      <td>50</td>\n",
       "      <td>F</td>\n",
       "      <td>S</td>\n",
       "      <td>2</td>\n",
       "      <td>64632.3</td>\n",
       "      <td>N</td>\n",
       "      <td>InVol</td>\n",
       "    </tr>\n",
       "    <tr>\n",
       "      <th>2</th>\n",
       "      <td>4</td>\n",
       "      <td>5.55564</td>\n",
       "      <td>0.00000</td>\n",
       "      <td>9.36347</td>\n",
       "      <td>1</td>\n",
       "      <td>CC</td>\n",
       "      <td>Budget</td>\n",
       "      <td>Intnl_discount</td>\n",
       "      <td>68</td>\n",
       "      <td>F</td>\n",
       "      <td>M</td>\n",
       "      <td>2</td>\n",
       "      <td>81000.9</td>\n",
       "      <td>N</td>\n",
       "      <td>Vol</td>\n",
       "    </tr>\n",
       "    <tr>\n",
       "      <th>3</th>\n",
       "      <td>8</td>\n",
       "      <td>14.01930</td>\n",
       "      <td>5.68043</td>\n",
       "      <td>29.80650</td>\n",
       "      <td>0</td>\n",
       "      <td>CC</td>\n",
       "      <td>Budget</td>\n",
       "      <td>Standard</td>\n",
       "      <td>34</td>\n",
       "      <td>M</td>\n",
       "      <td>S</td>\n",
       "      <td>0</td>\n",
       "      <td>87467.1</td>\n",
       "      <td>Y</td>\n",
       "      <td>Current</td>\n",
       "    </tr>\n",
       "    <tr>\n",
       "      <th>4</th>\n",
       "      <td>10</td>\n",
       "      <td>13.66400</td>\n",
       "      <td>2.95642</td>\n",
       "      <td>32.63810</td>\n",
       "      <td>0</td>\n",
       "      <td>CC</td>\n",
       "      <td>FreeLocal</td>\n",
       "      <td>Intnl_discount</td>\n",
       "      <td>60</td>\n",
       "      <td>M</td>\n",
       "      <td>M</td>\n",
       "      <td>2</td>\n",
       "      <td>83220.6</td>\n",
       "      <td>N</td>\n",
       "      <td>Vol</td>\n",
       "    </tr>\n",
       "  </tbody>\n",
       "</table>\n",
       "</div>"
      ],
      "text/plain": [
       "   ID  LONGDIST  International     LOCAL  DROPPED PAY_MTHD LocalBillType  \\\n",
       "0   0   5.24640        7.51510  86.32780        0       CH     FreeLocal   \n",
       "1   3   0.00000        0.00000   3.94229        0       CC        Budget   \n",
       "2   4   5.55564        0.00000   9.36347        1       CC        Budget   \n",
       "3   8  14.01930        5.68043  29.80650        0       CC        Budget   \n",
       "4  10  13.66400        2.95642  32.63810        0       CC     FreeLocal   \n",
       "\n",
       "  LongDistanceBillType  AGE SEX STATUS  CHILDREN  Est_Income Car_Owner  \\\n",
       "0             Standard   57   F      M         2     27535.3         Y   \n",
       "1       Intnl_discount   50   F      S         2     64632.3         N   \n",
       "2       Intnl_discount   68   F      M         2     81000.9         N   \n",
       "3             Standard   34   M      S         0     87467.1         Y   \n",
       "4       Intnl_discount   60   M      M         2     83220.6         N   \n",
       "\n",
       "   CHURNED  \n",
       "0      Vol  \n",
       "1    InVol  \n",
       "2      Vol  \n",
       "3  Current  \n",
       "4      Vol  "
      ]
     },
     "execution_count": 2,
     "metadata": {},
     "output_type": "execute_result"
    }
   ],
   "source": [
    "telecom.head()"
   ]
  },
  {
   "cell_type": "code",
   "execution_count": 4,
   "metadata": {},
   "outputs": [],
   "source": [
    "X = telecom.iloc[:,np.r_[1,2,3,4,8,11,12]]\n",
    "y = telecom[\"CHURNED\"]"
   ]
  },
  {
   "cell_type": "code",
   "execution_count": 5,
   "metadata": {},
   "outputs": [],
   "source": [
    "X_train, X_test, y_train, y_test = train_test_split(X, y)"
   ]
  },
  {
   "cell_type": "code",
   "execution_count": 7,
   "metadata": {},
   "outputs": [
    {
     "data": {
      "text/plain": [
       "LogisticRegression(C=1.0, class_weight=None, dual=False, fit_intercept=True,\n",
       "                   intercept_scaling=1, l1_ratio=None, max_iter=1000,\n",
       "                   multi_class='multinomial', n_jobs=None, penalty='l2',\n",
       "                   random_state=None, solver='lbfgs', tol=0.0001, verbose=0,\n",
       "                   warm_start=False)"
      ]
     },
     "execution_count": 7,
     "metadata": {},
     "output_type": "execute_result"
    }
   ],
   "source": [
    "softmax_reg = LogisticRegression(multi_class=\"multinomial\", solver=\"lbfgs\", max_iter=1000)\n",
    "softmax_reg.fit(X_train,y_train)"
   ]
  },
  {
   "cell_type": "code",
   "execution_count": 8,
   "metadata": {},
   "outputs": [],
   "source": [
    "y_prob = softmax_reg.predict_proba(X_test)"
   ]
  },
  {
   "cell_type": "code",
   "execution_count": 9,
   "metadata": {},
   "outputs": [
    {
     "data": {
      "text/plain": [
       "array([[5.85838875e-01, 1.50662954e-03, 4.12654496e-01],\n",
       "       [6.20270645e-01, 1.11468999e-05, 3.79718208e-01],\n",
       "       [5.62024809e-01, 6.41346044e-08, 4.37975127e-01],\n",
       "       ...,\n",
       "       [5.93971903e-01, 7.26512607e-07, 4.06027371e-01],\n",
       "       [7.75816291e-01, 8.84208664e-74, 2.24183709e-01],\n",
       "       [7.06959497e-01, 1.35510844e-08, 2.93040489e-01]])"
      ]
     },
     "execution_count": 9,
     "metadata": {},
     "output_type": "execute_result"
    }
   ],
   "source": [
    "y_prob"
   ]
  },
  {
   "cell_type": "code",
   "execution_count": 10,
   "metadata": {},
   "outputs": [],
   "source": [
    "from sklearn import preprocessing\n",
    "lb = preprocessing.LabelBinarizer()\n",
    "y_p = lb.fit_transform(y_test)"
   ]
  },
  {
   "cell_type": "code",
   "execution_count": 12,
   "metadata": {},
   "outputs": [
    {
     "data": {
      "text/plain": [
       "array([[0, 0, 1],\n",
       "       [1, 0, 0],\n",
       "       [1, 0, 0],\n",
       "       ...,\n",
       "       [1, 0, 0],\n",
       "       [0, 0, 1],\n",
       "       [1, 0, 0]])"
      ]
     },
     "execution_count": 12,
     "metadata": {},
     "output_type": "execute_result"
    }
   ],
   "source": [
    "y_p"
   ]
  },
  {
   "cell_type": "code",
   "execution_count": 22,
   "metadata": {},
   "outputs": [
    {
     "data": {
      "text/plain": [
       "0.6524520018670018"
      ]
     },
     "execution_count": 22,
     "metadata": {},
     "output_type": "execute_result"
    }
   ],
   "source": [
    "from sklearn.metrics import log_loss\n",
    "log_loss(y_p, y_prob)"
   ]
  },
  {
   "cell_type": "code",
   "execution_count": 28,
   "metadata": {},
   "outputs": [
    {
     "data": {
      "text/plain": [
       "0.6702702702702703"
      ]
     },
     "execution_count": 28,
     "metadata": {},
     "output_type": "execute_result"
    }
   ],
   "source": [
    "softmax_reg.score(X_test,y_test)"
   ]
  },
  {
   "cell_type": "markdown",
   "metadata": {},
   "source": [
    "### 분류 성과 측정 "
   ]
  },
  {
   "cell_type": "code",
   "execution_count": 1,
   "metadata": {},
   "outputs": [
    {
     "data": {
      "text/plain": [
       "array([[692,  58],\n",
       "       [ 33, 717]])"
      ]
     },
     "execution_count": 1,
     "metadata": {},
     "output_type": "execute_result"
    }
   ],
   "source": [
    "import pandas as pd\n",
    "import numpy as np\n",
    "from sklearn.linear_model import LogisticRegression\n",
    "from sklearn.model_selection import train_test_split\n",
    "import matplotlib.pyplot as plt\n",
    "\n",
    "customer = pd.read_csv(\"data/customerChurn.csv\")\n",
    "\n",
    "X = customer[['Frequency','Recency','Monetary']]\n",
    "y = (customer[\"Churn\"] == 'Yes').astype(np.int) \n",
    "\n",
    "X_train, X_test, y_train, y_test = train_test_split(X, y, test_size=0.3) \n",
    "\n",
    "log_reg = LogisticRegression().fit(X_train, y_train)\n",
    "\n",
    "y_pred = log_reg.predict(X_test)\n",
    "\n",
    "from sklearn.metrics import confusion_matrix\n",
    "confusion_matrix(y_test, y_pred)"
   ]
  },
  {
   "cell_type": "code",
   "execution_count": 2,
   "metadata": {},
   "outputs": [
    {
     "name": "stdout",
     "output_type": "stream",
     "text": [
      "테스트 집합 정확도: 0.939\n",
      "테스트 집합 accuracy: 0.939\n"
     ]
    }
   ],
   "source": [
    "print(\"테스트 집합 정확도: {:.3f}\".format(log_reg.score(X_test, y_test)))\n",
    "\n",
    "from sklearn.metrics import accuracy_score\n",
    "\n",
    "print(\"테스트 집합 accuracy: {:.3f}\".format(accuracy_score(y_test, y_pred)))"
   ]
  },
  {
   "cell_type": "code",
   "execution_count": 3,
   "metadata": {},
   "outputs": [
    {
     "name": "stdout",
     "output_type": "stream",
     "text": [
      "테스트 집합 정밀도: 0.925\n"
     ]
    }
   ],
   "source": [
    "from sklearn.metrics import precision_score\n",
    "\n",
    "print(\"테스트 집합 정밀도: {:.3f}\".format(precision_score(y_test, y_pred)))"
   ]
  },
  {
   "cell_type": "code",
   "execution_count": 4,
   "metadata": {},
   "outputs": [
    {
     "name": "stdout",
     "output_type": "stream",
     "text": [
      "테스트 집합 재현율: 0.956\n"
     ]
    }
   ],
   "source": [
    "from sklearn.metrics import recall_score\n",
    "\n",
    "print(\"테스트 집합 재현율: {:.3f}\".format(recall_score(y_test, y_pred)))"
   ]
  },
  {
   "cell_type": "code",
   "execution_count": 5,
   "metadata": {},
   "outputs": [
    {
     "name": "stdout",
     "output_type": "stream",
     "text": [
      "테스트 집합 f1 점수: 0.940\n"
     ]
    }
   ],
   "source": [
    "from sklearn.metrics import f1_score\n",
    "\n",
    "print(\"테스트 집합 f1 점수: {:.3f}\".format(f1_score(y_test, y_pred)))"
   ]
  },
  {
   "cell_type": "code",
   "execution_count": 6,
   "metadata": {},
   "outputs": [
    {
     "data": {
      "text/plain": [
       "array([9.93683907e-01, 9.96035983e-01, 3.98510330e-05, ...,\n",
       "       9.69351460e-01, 9.85293711e-01, 5.77449466e-03])"
      ]
     },
     "execution_count": 6,
     "metadata": {},
     "output_type": "execute_result"
    }
   ],
   "source": [
    "y_score = log_reg.predict_proba(X_test)\n",
    "y_score[:,1]"
   ]
  },
  {
   "cell_type": "code",
   "execution_count": 7,
   "metadata": {},
   "outputs": [],
   "source": [
    "from sklearn.metrics import precision_recall_curve\n",
    "\n",
    "precisions, recalls, thresholds = precision_recall_curve(y_test, y_score[:,1])\n",
    "\n",
    "# 1일 확률만 입력"
   ]
  },
  {
   "cell_type": "code",
   "execution_count": 14,
   "metadata": {},
   "outputs": [
    {
     "data": {
      "image/png": "[encoded data removed]",
      "text/plain": [
       "<Figure size 432x288 with 1 Axes>"
      ]
     },
     "metadata": {
      "needs_background": "light"
     },
     "output_type": "display_data"
    }
   ],
   "source": [
    "def plot_precision_recall_vs_threshold(precisions, recalls, threholds):\n",
    "    plt.plot(thresholds, precisions[:-1], \"b--\", label=\"Precision\")\n",
    "    plt.plot(thresholds, recalls[:-1], \"g--\", label=\"Recall\")\n",
    "    plt.vlines(x=0.5,ymin=0,ymax=1)\n",
    "    plt.legend(loc='best')\n",
    "    \n",
    "plot_precision_recall_vs_threshold(precisions, recalls, thresholds)\n",
    "plt.show()"
   ]
  },
  {
   "cell_type": "markdown",
   "metadata": {},
   "source": [
    "### ROC 곡선"
   ]
  },
  {
   "cell_type": "code",
   "execution_count": 37,
   "metadata": {},
   "outputs": [
    {
     "data": {
      "image/png": "[encoded data removed]",
      "text/plain": [
       "<Figure size 432x288 with 1 Axes>"
      ]
     },
     "metadata": {
      "needs_background": "light"
     },
     "output_type": "display_data"
    }
   ],
   "source": [
    "from sklearn.metrics import roc_curve\n",
    "\n",
    "fpr, tpr, thresholds = roc_curve(y_test, y_score[:,1])\n",
    "\n",
    "def plot_roc_curve(fpr, tpr, label=None):\n",
    "    plt.plot(fpr, tpr, linewidth=2, label=label)\n",
    "    plt.plot([[0],[1]], 'k--')\n",
    "    plt.xlabel(\"False Positive Rate\")\n",
    "    plt.ylabel(\"True Positive Rate\")\n",
    "    plt.grid(which='major', axis='both', alpha=0.5)\n",
    "    \n",
    "plot_roc_curve(fpr, tpr)\n",
    "plt.show()"
   ]
  },
  {
   "cell_type": "code",
   "execution_count": 38,
   "metadata": {},
   "outputs": [
    {
     "name": "stdout",
     "output_type": "stream",
     "text": [
      "테스트 집합 f1 점수: 0.939\n"
     ]
    }
   ],
   "source": [
    "from sklearn.metrics import roc_auc_score\n",
    "\n",
    "print(\"테스트 집합 AUC 점수: {:.3f}\".format(roc_auc_score(y_test, y_pred)))"
   ]
  },
  {
   "cell_type": "markdown",
   "metadata": {},
   "source": [
    "### 연습문제"
   ]
  },
  {
   "cell_type": "code",
   "execution_count": 39,
   "metadata": {},
   "outputs": [],
   "source": [
    "import pandas as pd\n",
    "import numpy as np\n",
    "import matplotlib.pyplot as plt\n",
    "from sklearn.linear_model import LogisticRegression\n",
    "from sklearn.model_selection import train_test_split\n",
    "from sklearn.model_selection import cross_val_score"
   ]
  },
  {
   "cell_type": "code",
   "execution_count": 41,
   "metadata": {},
   "outputs": [
    {
     "data": {
      "text/html": [
       "<div>\n",
       "<style scoped>\n",
       "    .dataframe tbody tr th:only-of-type {\n",
       "        vertical-align: middle;\n",
       "    }\n",
       "\n",
       "    .dataframe tbody tr th {\n",
       "        vertical-align: top;\n",
       "    }\n",
       "\n",
       "    .dataframe thead th {\n",
       "        text-align: right;\n",
       "    }\n",
       "</style>\n",
       "<table border=\"1\" class=\"dataframe\">\n",
       "  <thead>\n",
       "    <tr style=\"text-align: right;\">\n",
       "      <th></th>\n",
       "      <th>OBS#</th>\n",
       "      <th>CHK_ACCT</th>\n",
       "      <th>DURATION</th>\n",
       "      <th>HISTORY</th>\n",
       "      <th>NEW_CAR</th>\n",
       "      <th>USED_CAR</th>\n",
       "      <th>FURNITURE</th>\n",
       "      <th>RADIO/TV</th>\n",
       "      <th>EDUCATION</th>\n",
       "      <th>RETIRING</th>\n",
       "      <th>...</th>\n",
       "      <th>AGE</th>\n",
       "      <th>OTHER_INSTALL</th>\n",
       "      <th>RENT</th>\n",
       "      <th>OWN_RES</th>\n",
       "      <th>NUM_CREDITS</th>\n",
       "      <th>JOB</th>\n",
       "      <th>NUM_DEPENDENTS</th>\n",
       "      <th>TELEPHONE</th>\n",
       "      <th>FOREIGN</th>\n",
       "      <th>RESPONSE</th>\n",
       "    </tr>\n",
       "  </thead>\n",
       "  <tbody>\n",
       "    <tr>\n",
       "      <th>0</th>\n",
       "      <td>1</td>\n",
       "      <td>0</td>\n",
       "      <td>6</td>\n",
       "      <td>4</td>\n",
       "      <td>0</td>\n",
       "      <td>0</td>\n",
       "      <td>0</td>\n",
       "      <td>1</td>\n",
       "      <td>0</td>\n",
       "      <td>0</td>\n",
       "      <td>...</td>\n",
       "      <td>67</td>\n",
       "      <td>0</td>\n",
       "      <td>0</td>\n",
       "      <td>1</td>\n",
       "      <td>2</td>\n",
       "      <td>2</td>\n",
       "      <td>1</td>\n",
       "      <td>1</td>\n",
       "      <td>0</td>\n",
       "      <td>True</td>\n",
       "    </tr>\n",
       "    <tr>\n",
       "      <th>1</th>\n",
       "      <td>2</td>\n",
       "      <td>1</td>\n",
       "      <td>48</td>\n",
       "      <td>2</td>\n",
       "      <td>0</td>\n",
       "      <td>0</td>\n",
       "      <td>0</td>\n",
       "      <td>1</td>\n",
       "      <td>0</td>\n",
       "      <td>0</td>\n",
       "      <td>...</td>\n",
       "      <td>22</td>\n",
       "      <td>0</td>\n",
       "      <td>0</td>\n",
       "      <td>1</td>\n",
       "      <td>1</td>\n",
       "      <td>2</td>\n",
       "      <td>1</td>\n",
       "      <td>0</td>\n",
       "      <td>0</td>\n",
       "      <td>False</td>\n",
       "    </tr>\n",
       "    <tr>\n",
       "      <th>2</th>\n",
       "      <td>3</td>\n",
       "      <td>3</td>\n",
       "      <td>12</td>\n",
       "      <td>4</td>\n",
       "      <td>0</td>\n",
       "      <td>0</td>\n",
       "      <td>0</td>\n",
       "      <td>0</td>\n",
       "      <td>1</td>\n",
       "      <td>0</td>\n",
       "      <td>...</td>\n",
       "      <td>49</td>\n",
       "      <td>0</td>\n",
       "      <td>0</td>\n",
       "      <td>1</td>\n",
       "      <td>1</td>\n",
       "      <td>1</td>\n",
       "      <td>2</td>\n",
       "      <td>0</td>\n",
       "      <td>0</td>\n",
       "      <td>True</td>\n",
       "    </tr>\n",
       "    <tr>\n",
       "      <th>3</th>\n",
       "      <td>4</td>\n",
       "      <td>0</td>\n",
       "      <td>42</td>\n",
       "      <td>2</td>\n",
       "      <td>0</td>\n",
       "      <td>0</td>\n",
       "      <td>1</td>\n",
       "      <td>0</td>\n",
       "      <td>0</td>\n",
       "      <td>0</td>\n",
       "      <td>...</td>\n",
       "      <td>45</td>\n",
       "      <td>0</td>\n",
       "      <td>0</td>\n",
       "      <td>0</td>\n",
       "      <td>1</td>\n",
       "      <td>2</td>\n",
       "      <td>2</td>\n",
       "      <td>0</td>\n",
       "      <td>0</td>\n",
       "      <td>True</td>\n",
       "    </tr>\n",
       "    <tr>\n",
       "      <th>4</th>\n",
       "      <td>5</td>\n",
       "      <td>0</td>\n",
       "      <td>24</td>\n",
       "      <td>3</td>\n",
       "      <td>1</td>\n",
       "      <td>0</td>\n",
       "      <td>0</td>\n",
       "      <td>0</td>\n",
       "      <td>0</td>\n",
       "      <td>0</td>\n",
       "      <td>...</td>\n",
       "      <td>53</td>\n",
       "      <td>0</td>\n",
       "      <td>0</td>\n",
       "      <td>0</td>\n",
       "      <td>2</td>\n",
       "      <td>2</td>\n",
       "      <td>2</td>\n",
       "      <td>0</td>\n",
       "      <td>0</td>\n",
       "      <td>False</td>\n",
       "    </tr>\n",
       "  </tbody>\n",
       "</table>\n",
       "<p>5 rows × 32 columns</p>\n",
       "</div>"
      ],
      "text/plain": [
       "   OBS#  CHK_ACCT  DURATION  HISTORY  NEW_CAR  USED_CAR  FURNITURE  RADIO/TV  \\\n",
       "0     1         0         6        4        0         0          0         1   \n",
       "1     2         1        48        2        0         0          0         1   \n",
       "2     3         3        12        4        0         0          0         0   \n",
       "3     4         0        42        2        0         0          1         0   \n",
       "4     5         0        24        3        1         0          0         0   \n",
       "\n",
       "   EDUCATION  RETIRING  ...  AGE  OTHER_INSTALL  RENT  OWN_RES  NUM_CREDITS  \\\n",
       "0          0         0  ...   67              0     0        1            2   \n",
       "1          0         0  ...   22              0     0        1            1   \n",
       "2          1         0  ...   49              0     0        1            1   \n",
       "3          0         0  ...   45              0     0        0            1   \n",
       "4          0         0  ...   53              0     0        0            2   \n",
       "\n",
       "   JOB  NUM_DEPENDENTS  TELEPHONE  FOREIGN  RESPONSE  \n",
       "0    2               1          1        0      True  \n",
       "1    2               1          0        0     False  \n",
       "2    1               2          0        0      True  \n",
       "3    2               2          0        0      True  \n",
       "4    2               2          0        0     False  \n",
       "\n",
       "[5 rows x 32 columns]"
      ]
     },
     "execution_count": 41,
     "metadata": {},
     "output_type": "execute_result"
    }
   ],
   "source": [
    "gc = pd.read_csv('data/GermanCredit.csv')\n",
    "\n",
    "gc.head()"
   ]
  },
  {
   "cell_type": "markdown",
   "metadata": {},
   "source": [
    "- OBS : 관찰번호 \n",
    "- CHK_ACCT : (범주형) 체크 계좌 상태 (0: < 0 DM, 1: 0 < ... < 200 DM, 2: => 200 DM, 3: No checking account) # DM은 eur로 통합되기 전의 독일의 화폐단위 Deutsche Mark를 뜻함\n",
    "- DURATION : (수치형) 신용 대출 기간(개월)\n",
    "- HISTORY : (범주형) 신용 거래 내역 (0: 신용 거래 내역 없음, 1: 우리 은행의 신용 대출 모두 갚음, 2: 모든 은행의 신용 대출 모두 갚음, 3: 연체 이력 있음, 4: 유의 계좌)\n",
    "- NEW_CAR: (범주형) 신용 대출의 목적이 신차 구입인 경우 (0: No, 1: Yes)\n",
    "- USED_CAR: (범주형) 신용 대출의 목적이 중고차 구입인 경우 (0: No, 1: Yes)\n",
    "- FURNITURE: (범주형) 신용 대출의 목적이 가구 구입인 경우 (0: No, 1: Yes)\n",
    "- RADIO/TV: (범주형) 신용 대출의 목적이 RADIO 또는 TV 구입인 경우 (0: No, 1: Yes)\n",
    "- EDUCATION: (범주형) 신용 대출의 목적이 학자금 관련인 경우 (0: No, 1: Yes)\n",
    "- RETRAINING: (범주형) 신용 대출의 목적이 재취업 목적인 경우 (0: No, 1: Yes)\n",
    "- AMOUNT: (수치형) 신용 대출 금액 \n",
    "- SAV_ACCT: (범주형) 저축 계좌 상태 (0: < 100DM, 1: 100<= ... <500DM, 2: 500<= ... <1000DM, 3: => 1000DM, 4: Unknown/No savings account)\n",
    "- EMPLOYMENT: (범주형) 현재 취업 상태 (0: 무직, 1: < 1년, 2: 1<= ... < 4년, 3: 4<= ... < 7년, 4: >= 7년)\n",
    "- INSTALL_RATE: (수치형) 가처분 소득대비 상환금액 비율\n",
    "- MALE_DIV: (범주형) 남성이며 이혼상태인 경우 (0: No, 1: Yes)\n",
    "- MALE_SINGLE: (범주형) 남성이며 싱글인 경우 (0: No, 1: Yes)\n",
    "- MALE_MAR_WID: (범주형) 남성이며 혼인한 경우 또는 홀아비 (0: No, 1: Yes)\n",
    "- CO-APPLICANT: (범주형) 공동신청자가 있는 경우 (0: No, 1: Yes)\n",
    "- GUARANTOR: (범주형) 보증인이 있는 경우  (0: No, 1: Yes)\n",
    "- PRESENT_RESIDENT: (범주형) 현재 주소지 주거 경력 (0: <= 1년, 1: 1<= ... <= 2년, 2: 2<= ... <= 3년, 3: > 4년)\n",
    "- REAL_ESTATE: (범주형) 부동산 보유 여부 (0: No, 1: Yes)\n",
    "- PROP_UNKN_NONE: (범주형) 재산을 보유하지 않은 경우 (0: No, 1: Yes)\n",
    "- AGE: (수치형) 나이\n",
    "- OTHER_INSTALL: (범주형) 다른 신용대출 보유 여부 (0: No, 1: Yes)\n",
    "- RENT: (범주형) 주택 임대 여부 (0: No, 1: Yes)\n",
    "- OWN_RES: (범주형) 자가 주택 보유 여부 (0: No, 1: Yes)\n",
    "- NUM_CREDITS: (수치형) 기존 신용대출 수\n",
    "- JOB: (범주형) (0: 비숙련공 계약직, 1: 비숙련공 정규직, 2: 숙련공/사무직, 3: 관리직/자영업/기술직)\n",
    "- NUM_DEPENDENTS: (수치형) 가족의 수 \n",
    "- TELEPHONE: (범주형) 전화보유 여부 (0: No, 1: Yes)\n",
    "- FOREIGN: (범주형) 외국인 노동자 여부 (0: No, 1: Yes)\n",
    "- RESPONSE: (범주형) 신용도가 좋음 (0: No, 1: Yes)"
   ]
  },
  {
   "cell_type": "markdown",
   "metadata": {},
   "source": [
    "### RESPONSE가 종속변수이며, 독립변수는 수치형과 이분형 범주형 변수 중에서 선발. 여러 범주를 갖는 범주형 변수의 사용방안은 나중에 OneHotEncoding을 학습한 이후에 활용예정"
   ]
  },
  {
   "cell_type": "code",
   "execution_count": 47,
   "metadata": {},
   "outputs": [],
   "source": [
    "X = gc.iloc[:,np.r_[2,4:11,13:19,20:27,28:31]]  # np.r_ 은 비연속적으로 컬럼을 선택할 때 활용 \n",
    "y = gc['RESPONSE']"
   ]
  },
  {
   "cell_type": "code",
   "execution_count": 49,
   "metadata": {},
   "outputs": [
    {
     "name": "stdout",
     "output_type": "stream",
     "text": [
      "<class 'pandas.core.frame.DataFrame'>\n",
      "RangeIndex: 1000 entries, 0 to 999\n",
      "Data columns (total 24 columns):\n",
      "DURATION           1000 non-null int64\n",
      "NEW_CAR            1000 non-null int64\n",
      "USED_CAR           1000 non-null int64\n",
      "FURNITURE          1000 non-null int64\n",
      "RADIO/TV           1000 non-null int64\n",
      "EDUCATION          1000 non-null int64\n",
      "RETIRING           1000 non-null int64\n",
      "AMOUNT             1000 non-null int64\n",
      "INSTALL_RATE       1000 non-null int64\n",
      "MALE_DIV           1000 non-null int64\n",
      "MALE_SINGLE        1000 non-null int64\n",
      "MALE_MAR_or_WID    1000 non-null int64\n",
      "CO-APPLICANT       1000 non-null int64\n",
      "GUARANTOR          1000 non-null int64\n",
      "REAL_ESTATE        1000 non-null int64\n",
      "PROP_UNKN_NONE     1000 non-null int64\n",
      "AGE                1000 non-null int64\n",
      "OTHER_INSTALL      1000 non-null int64\n",
      "RENT               1000 non-null int64\n",
      "OWN_RES            1000 non-null int64\n",
      "NUM_CREDITS        1000 non-null int64\n",
      "NUM_DEPENDENTS     1000 non-null int64\n",
      "TELEPHONE          1000 non-null int64\n",
      "FOREIGN            1000 non-null int64\n",
      "dtypes: int64(24)\n",
      "memory usage: 187.6 KB\n"
     ]
    }
   ],
   "source": [
    "X.info()"
   ]
  },
  {
   "cell_type": "markdown",
   "metadata": {},
   "source": [
    "### 독립변수 후보들과 종속변수간의 관계 탐색, 종속변수가 범주형이므로 범주에 따른 독립변수 후보들의 값의 분포에 차이가 있는 지 검토"
   ]
  },
  {
   "cell_type": "markdown",
   "metadata": {},
   "source": [
    "- DURATION과 RESPONSE"
   ]
  },
  {
   "cell_type": "code",
   "execution_count": 50,
   "metadata": {},
   "outputs": [
    {
     "data": {
      "text/plain": [
       "<matplotlib.axes._subplots.AxesSubplot at 0x7fd6423ba9e8>"
      ]
     },
     "execution_count": 50,
     "metadata": {},
     "output_type": "execute_result"
    },
    {
     "data": {
      "image/png": "[encoded data removed]",
      "text/plain": [
       "<Figure size 432x288 with 1 Axes>"
      ]
     },
     "metadata": {
      "needs_background": "light"
     },
     "output_type": "display_data"
    }
   ],
   "source": [
    "gc.boxplot(column=['DURATION'], by=\"RESPONSE\") # RESPONSE 값에 따른 DURATION 분포 차이가 보임 "
   ]
  },
  {
   "cell_type": "markdown",
   "metadata": {},
   "source": [
    "- AMOUNT와 RESPONSE"
   ]
  },
  {
   "cell_type": "code",
   "execution_count": 79,
   "metadata": {},
   "outputs": [
    {
     "data": {
      "text/plain": [
       "<matplotlib.axes._subplots.AxesSubplot at 0x7fd641f30ac8>"
      ]
     },
     "execution_count": 79,
     "metadata": {},
     "output_type": "execute_result"
    },
    {
     "data": {
      "image/png": "[encoded data removed]",
      "text/plain": [
       "<Figure size 432x288 with 1 Axes>"
      ]
     },
     "metadata": {
      "needs_background": "light"
     },
     "output_type": "display_data"
    }
   ],
   "source": [
    "gc.boxplot(column=['AMOUNT'], by=\"RESPONSE\") \n",
    "# RESPONSE 값에 따른 AMOUNT 분포는 중앙값은 비슷하지만 신용도가 좋지 않은 그룹이 더 많은 금액을 신청하였음"
   ]
  },
  {
   "cell_type": "markdown",
   "metadata": {},
   "source": [
    "- INSTALL_RATE과 RESPONSE"
   ]
  },
  {
   "cell_type": "code",
   "execution_count": 81,
   "metadata": {},
   "outputs": [
    {
     "data": {
      "text/plain": [
       "<matplotlib.axes._subplots.AxesSubplot at 0x7fd641922668>"
      ]
     },
     "execution_count": 81,
     "metadata": {},
     "output_type": "execute_result"
    },
    {
     "data": {
      "image/png": "[encoded data removed]",
      "text/plain": [
       "<Figure size 432x288 with 1 Axes>"
      ]
     },
     "metadata": {
      "needs_background": "light"
     },
     "output_type": "display_data"
    }
   ],
   "source": [
    "gc.boxplot(column=['INSTALL_RATE'], by=\"RESPONSE\") \n",
    "\n",
    "# INSTALL_RATE 값의 범위가 RESPONSE에 따라 상이해 보이지 않음. 중앙값은 차이가 보임."
   ]
  },
  {
   "cell_type": "code",
   "execution_count": 90,
   "metadata": {},
   "outputs": [
    {
     "data": {
      "text/plain": [
       "<matplotlib.axes._subplots.AxesSubplot at 0x7fd6425e4b00>"
      ]
     },
     "execution_count": 90,
     "metadata": {},
     "output_type": "execute_result"
    },
    {
     "data": {
      "image/png": "[encoded data removed]",
      "text/plain": [
       "<Figure size 432x288 with 1 Axes>"
      ]
     },
     "metadata": {
      "needs_background": "light"
     },
     "output_type": "display_data"
    }
   ],
   "source": [
    "gcYES = gc[gc.RESPONSE == True]\n",
    "gcNO = gc[gc.RESPONSE == False]\n",
    "\n",
    "gcYES['INSTALL_RATE'].plot(kind='kde', style='r--') \n",
    "gcNO['INSTALL_RATE'].plot(kind='kde', style='b--') \n",
    "\n",
    "## 신용도가 좋지 않은 신청자들의 INSTALL_RATE 값이 좀 더 높은 경향"
   ]
  },
  {
   "cell_type": "markdown",
   "metadata": {},
   "source": [
    "- NEW_CAR와 RESPONSE"
   ]
  },
  {
   "cell_type": "code",
   "execution_count": 53,
   "metadata": {},
   "outputs": [
    {
     "data": {
      "text/html": [
       "<div>\n",
       "<style scoped>\n",
       "    .dataframe tbody tr th:only-of-type {\n",
       "        vertical-align: middle;\n",
       "    }\n",
       "\n",
       "    .dataframe tbody tr th {\n",
       "        vertical-align: top;\n",
       "    }\n",
       "\n",
       "    .dataframe thead th {\n",
       "        text-align: right;\n",
       "    }\n",
       "</style>\n",
       "<table border=\"1\" class=\"dataframe\">\n",
       "  <thead>\n",
       "    <tr style=\"text-align: right;\">\n",
       "      <th>NEW_CAR</th>\n",
       "      <th>0</th>\n",
       "      <th>1</th>\n",
       "    </tr>\n",
       "    <tr>\n",
       "      <th>RESPONSE</th>\n",
       "      <th></th>\n",
       "      <th></th>\n",
       "    </tr>\n",
       "  </thead>\n",
       "  <tbody>\n",
       "    <tr>\n",
       "      <th>False</th>\n",
       "      <td>211</td>\n",
       "      <td>89</td>\n",
       "    </tr>\n",
       "    <tr>\n",
       "      <th>True</th>\n",
       "      <td>555</td>\n",
       "      <td>145</td>\n",
       "    </tr>\n",
       "  </tbody>\n",
       "</table>\n",
       "</div>"
      ],
      "text/plain": [
       "NEW_CAR     0    1\n",
       "RESPONSE          \n",
       "False     211   89\n",
       "True      555  145"
      ]
     },
     "execution_count": 53,
     "metadata": {},
     "output_type": "execute_result"
    }
   ],
   "source": [
    "counts = pd.crosstab(gc.RESPONSE, gc.NEW_CAR)\n",
    "counts"
   ]
  },
  {
   "cell_type": "code",
   "execution_count": 54,
   "metadata": {},
   "outputs": [
    {
     "data": {
      "text/plain": [
       "<matplotlib.axes._subplots.AxesSubplot at 0x7fd641f9a588>"
      ]
     },
     "execution_count": 54,
     "metadata": {},
     "output_type": "execute_result"
    },
    {
     "data": {
      "image/png": "[encoded data removed]",
      "text/plain": [
       "<Figure size 432x288 with 1 Axes>"
      ]
     },
     "metadata": {
      "needs_background": "light"
     },
     "output_type": "display_data"
    }
   ],
   "source": [
    "counts.plot(kind='bar', stacked=True)"
   ]
  },
  {
   "cell_type": "code",
   "execution_count": 73,
   "metadata": {},
   "outputs": [
    {
     "data": {
      "text/plain": [
       "0.2966666666666667"
      ]
     },
     "execution_count": 73,
     "metadata": {},
     "output_type": "execute_result"
    }
   ],
   "source": [
    "counts[1][0] / (counts[0][0] + counts[1][0]) # FALSE 일때 신차 구매 비율"
   ]
  },
  {
   "cell_type": "code",
   "execution_count": 74,
   "metadata": {},
   "outputs": [
    {
     "data": {
      "text/plain": [
       "0.20714285714285716"
      ]
     },
     "execution_count": 74,
     "metadata": {},
     "output_type": "execute_result"
    }
   ],
   "source": [
    "counts[1][1] / (counts[0][1] + counts[1][1]) # TRUE 일때 신차 구매 비율 "
   ]
  },
  {
   "cell_type": "markdown",
   "metadata": {},
   "source": [
    "- USED_CAR와 RESPONSE"
   ]
  },
  {
   "cell_type": "code",
   "execution_count": 75,
   "metadata": {},
   "outputs": [
    {
     "data": {
      "text/html": [
       "<div>\n",
       "<style scoped>\n",
       "    .dataframe tbody tr th:only-of-type {\n",
       "        vertical-align: middle;\n",
       "    }\n",
       "\n",
       "    .dataframe tbody tr th {\n",
       "        vertical-align: top;\n",
       "    }\n",
       "\n",
       "    .dataframe thead th {\n",
       "        text-align: right;\n",
       "    }\n",
       "</style>\n",
       "<table border=\"1\" class=\"dataframe\">\n",
       "  <thead>\n",
       "    <tr style=\"text-align: right;\">\n",
       "      <th>USED_CAR</th>\n",
       "      <th>0</th>\n",
       "      <th>1</th>\n",
       "    </tr>\n",
       "    <tr>\n",
       "      <th>RESPONSE</th>\n",
       "      <th></th>\n",
       "      <th></th>\n",
       "    </tr>\n",
       "  </thead>\n",
       "  <tbody>\n",
       "    <tr>\n",
       "      <th>False</th>\n",
       "      <td>283</td>\n",
       "      <td>17</td>\n",
       "    </tr>\n",
       "    <tr>\n",
       "      <th>True</th>\n",
       "      <td>614</td>\n",
       "      <td>86</td>\n",
       "    </tr>\n",
       "  </tbody>\n",
       "</table>\n",
       "</div>"
      ],
      "text/plain": [
       "USED_CAR    0   1\n",
       "RESPONSE         \n",
       "False     283  17\n",
       "True      614  86"
      ]
     },
     "execution_count": 75,
     "metadata": {},
     "output_type": "execute_result"
    }
   ],
   "source": [
    "counts = pd.crosstab(gc.RESPONSE, gc.USED_CAR)\n",
    "counts"
   ]
  },
  {
   "cell_type": "code",
   "execution_count": 76,
   "metadata": {},
   "outputs": [
    {
     "data": {
      "text/plain": [
       "<matplotlib.axes._subplots.AxesSubplot at 0x7fd64234fbe0>"
      ]
     },
     "execution_count": 76,
     "metadata": {},
     "output_type": "execute_result"
    },
    {
     "data": {
      "image/png": "[encoded data removed]",
      "text/plain": [
       "<Figure size 432x288 with 1 Axes>"
      ]
     },
     "metadata": {
      "needs_background": "light"
     },
     "output_type": "display_data"
    }
   ],
   "source": [
    "counts.plot(kind='bar', stacked=True)"
   ]
  },
  {
   "cell_type": "code",
   "execution_count": 77,
   "metadata": {},
   "outputs": [
    {
     "data": {
      "text/plain": [
       "0.056666666666666664"
      ]
     },
     "execution_count": 77,
     "metadata": {},
     "output_type": "execute_result"
    }
   ],
   "source": [
    "counts[1][0] / (counts[0][0] + counts[1][0]) # FALSE 일때 중고차 구매 비율"
   ]
  },
  {
   "cell_type": "code",
   "execution_count": 78,
   "metadata": {},
   "outputs": [
    {
     "data": {
      "text/plain": [
       "0.12285714285714286"
      ]
     },
     "execution_count": 78,
     "metadata": {},
     "output_type": "execute_result"
    }
   ],
   "source": [
    "counts[1][1] / (counts[0][1] + counts[1][1]) # TRUE 일때 중고차 구매 비율 "
   ]
  },
  {
   "cell_type": "markdown",
   "metadata": {},
   "source": [
    "- FOREIGN과 RESPONSE"
   ]
  },
  {
   "cell_type": "code",
   "execution_count": 96,
   "metadata": {},
   "outputs": [
    {
     "data": {
      "text/html": [
       "<div>\n",
       "<style scoped>\n",
       "    .dataframe tbody tr th:only-of-type {\n",
       "        vertical-align: middle;\n",
       "    }\n",
       "\n",
       "    .dataframe tbody tr th {\n",
       "        vertical-align: top;\n",
       "    }\n",
       "\n",
       "    .dataframe thead th {\n",
       "        text-align: right;\n",
       "    }\n",
       "</style>\n",
       "<table border=\"1\" class=\"dataframe\">\n",
       "  <thead>\n",
       "    <tr style=\"text-align: right;\">\n",
       "      <th>FOREIGN</th>\n",
       "      <th>0</th>\n",
       "      <th>1</th>\n",
       "    </tr>\n",
       "    <tr>\n",
       "      <th>RESPONSE</th>\n",
       "      <th></th>\n",
       "      <th></th>\n",
       "    </tr>\n",
       "  </thead>\n",
       "  <tbody>\n",
       "    <tr>\n",
       "      <th>False</th>\n",
       "      <td>296</td>\n",
       "      <td>4</td>\n",
       "    </tr>\n",
       "    <tr>\n",
       "      <th>True</th>\n",
       "      <td>667</td>\n",
       "      <td>33</td>\n",
       "    </tr>\n",
       "  </tbody>\n",
       "</table>\n",
       "</div>"
      ],
      "text/plain": [
       "FOREIGN     0   1\n",
       "RESPONSE         \n",
       "False     296   4\n",
       "True      667  33"
      ]
     },
     "execution_count": 96,
     "metadata": {},
     "output_type": "execute_result"
    }
   ],
   "source": [
    "counts = pd.crosstab(gc.RESPONSE, gc.FOREIGN)\n",
    "counts"
   ]
  },
  {
   "cell_type": "code",
   "execution_count": 97,
   "metadata": {},
   "outputs": [
    {
     "data": {
      "text/plain": [
       "<matplotlib.axes._subplots.AxesSubplot at 0x7fd642e0a860>"
      ]
     },
     "execution_count": 97,
     "metadata": {},
     "output_type": "execute_result"
    },
    {
     "data": {
      "image/png": "[encoded data removed]",
      "text/plain": [
       "<Figure size 432x288 with 1 Axes>"
      ]
     },
     "metadata": {
      "needs_background": "light"
     },
     "output_type": "display_data"
    }
   ],
   "source": [
    "counts.plot(kind='bar', stacked=True)"
   ]
  },
  {
   "cell_type": "code",
   "execution_count": 98,
   "metadata": {},
   "outputs": [
    {
     "data": {
      "text/plain": [
       "0.013333333333333334"
      ]
     },
     "execution_count": 98,
     "metadata": {},
     "output_type": "execute_result"
    }
   ],
   "source": [
    "counts[1][0] / (counts[0][0] + counts[1][0]) # FALSE 일때 FOREIGN 비율"
   ]
  },
  {
   "cell_type": "code",
   "execution_count": 99,
   "metadata": {},
   "outputs": [
    {
     "data": {
      "text/plain": [
       "0.047142857142857146"
      ]
     },
     "execution_count": 99,
     "metadata": {},
     "output_type": "execute_result"
    }
   ],
   "source": [
    "counts[1][1] / (counts[0][1] + counts[1][1]) # TRUE 일때 FOREIGN 비율 "
   ]
  },
  {
   "cell_type": "markdown",
   "metadata": {},
   "source": [
    "### 모형 학습 "
   ]
  },
  {
   "cell_type": "code",
   "execution_count": 100,
   "metadata": {},
   "outputs": [],
   "source": [
    "X_train, X_test, y_train, y_test = train_test_split(X, y)"
   ]
  },
  {
   "cell_type": "code",
   "execution_count": 101,
   "metadata": {},
   "outputs": [
    {
     "data": {
      "text/plain": [
       "LogisticRegression(C=1.0, class_weight=None, dual=False, fit_intercept=True,\n",
       "                   intercept_scaling=1, l1_ratio=None, max_iter=100,\n",
       "                   multi_class='auto', n_jobs=None, penalty='l2',\n",
       "                   random_state=None, solver='lbfgs', tol=0.0001, verbose=0,\n",
       "                   warm_start=False)"
      ]
     },
     "execution_count": 101,
     "metadata": {},
     "output_type": "execute_result"
    }
   ],
   "source": [
    "clf = LogisticRegression()\n",
    "clf.fit(X_train, y_train)"
   ]
  },
  {
   "cell_type": "code",
   "execution_count": 102,
   "metadata": {},
   "outputs": [
    {
     "name": "stdout",
     "output_type": "stream",
     "text": [
      "Predictions: [ True  True  True  True  True False False  True  True  True  True  True\n",
      "  True  True  True False  True  True  True  True  True  True  True False\n",
      "  True  True  True  True  True  True  True  True  True  True  True False\n",
      "  True  True  True  True  True  True  True  True  True  True  True  True\n",
      "  True  True  True  True  True  True  True  True  True  True  True  True\n",
      "  True  True  True  True  True  True  True  True  True  True  True False\n",
      " False  True  True  True  True  True  True  True  True  True  True  True\n",
      "  True  True False  True  True  True  True False  True False  True  True\n",
      " False  True  True  True  True  True  True  True  True False False  True\n",
      "  True  True  True  True  True  True False  True  True  True  True False\n",
      "  True  True  True  True False  True False  True  True  True  True  True\n",
      "  True  True  True  True  True  True  True  True  True  True  True  True\n",
      "  True  True  True  True  True  True  True  True  True False  True  True\n",
      "  True  True  True  True  True False  True  True  True  True  True  True\n",
      "  True  True  True  True  True  True  True  True  True  True False  True\n",
      " False  True  True  True  True  True  True  True  True  True  True  True\n",
      " False  True False  True  True  True  True  True  True  True  True False\n",
      "  True False False False  True  True  True  True  True  True  True  True\n",
      "  True  True  True  True  True  True  True False  True  True  True  True\n",
      "  True  True  True  True False  True False  True  True  True  True  True\n",
      " False False  True  True  True  True  True  True  True  True]\n"
     ]
    }
   ],
   "source": [
    "print(\"Predictions: {}\".format(clf.predict(X_test)))"
   ]
  },
  {
   "cell_type": "code",
   "execution_count": 103,
   "metadata": {},
   "outputs": [
    {
     "name": "stdout",
     "output_type": "stream",
     "text": [
      "Predictions: [[0.33902693 0.66097307]\n",
      " [0.32599804 0.67400196]\n",
      " [0.20815147 0.79184853]\n",
      " [0.46994886 0.53005114]\n",
      " [0.12871347 0.87128653]\n",
      " [0.60637753 0.39362247]\n",
      " [0.61414795 0.38585205]\n",
      " [0.24159308 0.75840692]\n",
      " [0.20261108 0.79738892]\n",
      " [0.33699776 0.66300224]\n",
      " [0.4064295  0.5935705 ]\n",
      " [0.31668453 0.68331547]\n",
      " [0.15325537 0.84674463]\n",
      " [0.36677136 0.63322864]\n",
      " [0.48233839 0.51766161]\n",
      " [0.69564002 0.30435998]\n",
      " [0.25162165 0.74837835]\n",
      " [0.25737018 0.74262982]\n",
      " [0.42884382 0.57115618]\n",
      " [0.23396639 0.76603361]\n",
      " [0.2912505  0.7087495 ]\n",
      " [0.36586609 0.63413391]\n",
      " [0.16918801 0.83081199]\n",
      " [0.73166693 0.26833307]\n",
      " [0.24820044 0.75179956]\n",
      " [0.28297201 0.71702799]\n",
      " [0.35402909 0.64597091]\n",
      " [0.06737437 0.93262563]\n",
      " [0.38994662 0.61005338]\n",
      " [0.30668069 0.69331931]\n",
      " [0.15735891 0.84264109]\n",
      " [0.48792472 0.51207528]\n",
      " [0.35276243 0.64723757]\n",
      " [0.46469913 0.53530087]\n",
      " [0.2820967  0.7179033 ]\n",
      " [0.67357285 0.32642715]\n",
      " [0.05110852 0.94889148]\n",
      " [0.48990173 0.51009827]\n",
      " [0.18586724 0.81413276]\n",
      " [0.13265108 0.86734892]\n",
      " [0.41919019 0.58080981]\n",
      " [0.13984416 0.86015584]\n",
      " [0.13730125 0.86269875]\n",
      " [0.40202926 0.59797074]\n",
      " [0.2308396  0.7691604 ]\n",
      " [0.46021351 0.53978649]\n",
      " [0.20232467 0.79767533]\n",
      " [0.42029543 0.57970457]\n",
      " [0.46054357 0.53945643]\n",
      " [0.49486002 0.50513998]\n",
      " [0.28677431 0.71322569]\n",
      " [0.23331409 0.76668591]\n",
      " [0.36121632 0.63878368]\n",
      " [0.08258538 0.91741462]\n",
      " [0.24244399 0.75755601]\n",
      " [0.3503687  0.6496313 ]\n",
      " [0.40183681 0.59816319]\n",
      " [0.17629022 0.82370978]\n",
      " [0.19708538 0.80291462]\n",
      " [0.10641711 0.89358289]\n",
      " [0.47583616 0.52416384]\n",
      " [0.44001415 0.55998585]\n",
      " [0.16138569 0.83861431]\n",
      " [0.41782229 0.58217771]\n",
      " [0.19097395 0.80902605]\n",
      " [0.38771982 0.61228018]\n",
      " [0.0773686  0.9226314 ]\n",
      " [0.15395573 0.84604427]\n",
      " [0.30344503 0.69655497]\n",
      " [0.06822594 0.93177406]\n",
      " [0.44199188 0.55800812]\n",
      " [0.51870297 0.48129703]\n",
      " [0.61346082 0.38653918]\n",
      " [0.33512953 0.66487047]\n",
      " [0.02637235 0.97362765]\n",
      " [0.35405515 0.64594485]\n",
      " [0.23620995 0.76379005]\n",
      " [0.30458488 0.69541512]\n",
      " [0.28288832 0.71711168]\n",
      " [0.27913858 0.72086142]\n",
      " [0.48900074 0.51099926]\n",
      " [0.31944284 0.68055716]\n",
      " [0.28594739 0.71405261]\n",
      " [0.4064435  0.5935565 ]\n",
      " [0.11027716 0.88972284]\n",
      " [0.21904822 0.78095178]\n",
      " [0.51096797 0.48903203]\n",
      " [0.43598186 0.56401814]\n",
      " [0.31124211 0.68875789]\n",
      " [0.28580765 0.71419235]\n",
      " [0.08484011 0.91515989]\n",
      " [0.50612477 0.49387523]\n",
      " [0.14429695 0.85570305]\n",
      " [0.67572242 0.32427758]\n",
      " [0.21328522 0.78671478]\n",
      " [0.14391291 0.85608709]\n",
      " [0.76792554 0.23207446]\n",
      " [0.28675919 0.71324081]\n",
      " [0.36157672 0.63842328]\n",
      " [0.13338566 0.86661434]\n",
      " [0.27736942 0.72263058]\n",
      " [0.46642883 0.53357117]\n",
      " [0.08489906 0.91510094]\n",
      " [0.13939049 0.86060951]\n",
      " [0.33781804 0.66218196]\n",
      " [0.62275172 0.37724828]\n",
      " [0.71064934 0.28935066]\n",
      " [0.14165948 0.85834052]\n",
      " [0.20073472 0.79926528]\n",
      " [0.25096554 0.74903446]\n",
      " [0.15437826 0.84562174]\n",
      " [0.36948241 0.63051759]\n",
      " [0.35791913 0.64208087]\n",
      " [0.25125341 0.74874659]\n",
      " [0.54017107 0.45982893]\n",
      " [0.25164124 0.74835876]\n",
      " [0.20413693 0.79586307]\n",
      " [0.36947247 0.63052753]\n",
      " [0.36514062 0.63485938]\n",
      " [0.64563781 0.35436219]\n",
      " [0.22494008 0.77505992]\n",
      " [0.09011114 0.90988886]\n",
      " [0.1628039  0.8371961 ]\n",
      " [0.22149464 0.77850536]\n",
      " [0.5360687  0.4639313 ]\n",
      " [0.22216158 0.77783842]\n",
      " [0.54053699 0.45946301]\n",
      " [0.18074064 0.81925936]\n",
      " [0.47877582 0.52122418]\n",
      " [0.17089203 0.82910797]\n",
      " [0.16479981 0.83520019]\n",
      " [0.13649055 0.86350945]\n",
      " [0.14340139 0.85659861]\n",
      " [0.11870449 0.88129551]\n",
      " [0.29273724 0.70726276]\n",
      " [0.12868752 0.87131248]\n",
      " [0.42702504 0.57297496]\n",
      " [0.29499635 0.70500365]\n",
      " [0.1756931  0.8243069 ]\n",
      " [0.43576609 0.56423391]\n",
      " [0.19031251 0.80968749]\n",
      " [0.22451126 0.77548874]\n",
      " [0.23424389 0.76575611]\n",
      " [0.37396384 0.62603616]\n",
      " [0.28198129 0.71801871]\n",
      " [0.39602134 0.60397866]\n",
      " [0.39125671 0.60874329]\n",
      " [0.47242697 0.52757303]\n",
      " [0.22280811 0.77719189]\n",
      " [0.41236197 0.58763803]\n",
      " [0.16216706 0.83783294]\n",
      " [0.10025695 0.89974305]\n",
      " [0.28555027 0.71444973]\n",
      " [0.61706659 0.38293341]\n",
      " [0.13263824 0.86736176]\n",
      " [0.34901712 0.65098288]\n",
      " [0.10013608 0.89986392]\n",
      " [0.03997631 0.96002369]\n",
      " [0.26884794 0.73115206]\n",
      " [0.0783644  0.9216356 ]\n",
      " [0.37036773 0.62963227]\n",
      " [0.55393086 0.44606914]\n",
      " [0.20232059 0.79767941]\n",
      " [0.3874154  0.6125846 ]\n",
      " [0.31656361 0.68343639]\n",
      " [0.16376812 0.83623188]\n",
      " [0.27701837 0.72298163]\n",
      " [0.38766604 0.61233396]\n",
      " [0.35921785 0.64078215]\n",
      " [0.48422972 0.51577028]\n",
      " [0.10677332 0.89322668]\n",
      " [0.25456235 0.74543765]\n",
      " [0.14602938 0.85397062]\n",
      " [0.4077247  0.5922753 ]\n",
      " [0.33480927 0.66519073]\n",
      " [0.07157844 0.92842156]\n",
      " [0.35011997 0.64988003]\n",
      " [0.12531862 0.87468138]\n",
      " [0.67084751 0.32915249]\n",
      " [0.06607878 0.93392122]\n",
      " [0.68136942 0.31863058]\n",
      " [0.23744273 0.76255727]\n",
      " [0.36804438 0.63195562]\n",
      " [0.42752472 0.57247528]\n",
      " [0.10851516 0.89148484]\n",
      " [0.06037484 0.93962516]\n",
      " [0.34959855 0.65040145]\n",
      " [0.3342652  0.6657348 ]\n",
      " [0.24361658 0.75638342]\n",
      " [0.37964084 0.62035916]\n",
      " [0.30960575 0.69039425]\n",
      " [0.24778339 0.75221661]\n",
      " [0.50867681 0.49132319]\n",
      " [0.322602   0.677398  ]\n",
      " [0.54749829 0.45250171]\n",
      " [0.16357573 0.83642427]\n",
      " [0.36080005 0.63919995]\n",
      " [0.18587231 0.81412769]\n",
      " [0.26421958 0.73578042]\n",
      " [0.36800429 0.63199571]\n",
      " [0.09945165 0.90054835]\n",
      " [0.321951   0.678049  ]\n",
      " [0.33921539 0.66078461]\n",
      " [0.51417307 0.48582693]\n",
      " [0.18318564 0.81681436]\n",
      " [0.56381754 0.43618246]\n",
      " [0.53946597 0.46053403]\n",
      " [0.59650512 0.40349488]\n",
      " [0.36303272 0.63696728]\n",
      " [0.33303027 0.66696973]\n",
      " [0.34826939 0.65173061]\n",
      " [0.12078327 0.87921673]\n",
      " [0.07641533 0.92358467]\n",
      " [0.08499492 0.91500508]\n",
      " [0.37315533 0.62684467]\n",
      " [0.23480582 0.76519418]\n",
      " [0.36482333 0.63517667]\n",
      " [0.2743645  0.7256355 ]\n",
      " [0.30310171 0.69689829]\n",
      " [0.29803149 0.70196851]\n",
      " [0.2139742  0.7860258 ]\n",
      " [0.25134283 0.74865717]\n",
      " [0.36076812 0.63923188]\n",
      " [0.50498733 0.49501267]\n",
      " [0.145497   0.854503  ]\n",
      " [0.31850802 0.68149198]\n",
      " [0.22422115 0.77577885]\n",
      " [0.40758747 0.59241253]\n",
      " [0.2759351  0.7240649 ]\n",
      " [0.33989282 0.66010718]\n",
      " [0.14208044 0.85791956]\n",
      " [0.11007875 0.88992125]\n",
      " [0.80134831 0.19865169]\n",
      " [0.32562333 0.67437667]\n",
      " [0.59594283 0.40405717]\n",
      " [0.28301822 0.71698178]\n",
      " [0.37923573 0.62076427]\n",
      " [0.16409722 0.83590278]\n",
      " [0.38266245 0.61733755]\n",
      " [0.11608423 0.88391577]\n",
      " [0.5292856  0.4707144 ]\n",
      " [0.57054455 0.42945545]\n",
      " [0.30745737 0.69254263]\n",
      " [0.21080268 0.78919732]\n",
      " [0.2303754  0.7696246 ]\n",
      " [0.11821441 0.88178559]\n",
      " [0.37960317 0.62039683]\n",
      " [0.3895927  0.6104073 ]\n",
      " [0.42633806 0.57366194]\n",
      " [0.36112625 0.63887375]]\n"
     ]
    }
   ],
   "source": [
    "print(\"Predictions: {}\".format(clf.predict_proba(X_test)))"
   ]
  },
  {
   "cell_type": "markdown",
   "metadata": {},
   "source": [
    "### 분류 성과 측정"
   ]
  },
  {
   "cell_type": "code",
   "execution_count": 104,
   "metadata": {},
   "outputs": [
    {
     "data": {
      "text/plain": [
       "array([[ 24,  56],\n",
       "       [  8, 162]])"
      ]
     },
     "execution_count": 104,
     "metadata": {},
     "output_type": "execute_result"
    }
   ],
   "source": [
    "y_pred = clf.predict(X_test)\n",
    "\n",
    "from sklearn.metrics import confusion_matrix\n",
    "confusion_matrix(y_test, y_pred)"
   ]
  },
  {
   "cell_type": "code",
   "execution_count": 105,
   "metadata": {},
   "outputs": [
    {
     "name": "stdout",
     "output_type": "stream",
     "text": [
      "Accuracy: 0.744\n"
     ]
    }
   ],
   "source": [
    "print(\"Accuracy: {}\".format(clf.score(X_test, y_test)))"
   ]
  },
  {
   "cell_type": "code",
   "execution_count": 107,
   "metadata": {},
   "outputs": [
    {
     "data": {
      "text/plain": [
       "0.7431192660550459"
      ]
     },
     "execution_count": 107,
     "metadata": {},
     "output_type": "execute_result"
    }
   ],
   "source": [
    "from sklearn.metrics import precision_score, recall_score, f1_score, roc_auc_score\n",
    "\n",
    "precision_score(y_test, y_pred)"
   ]
  },
  {
   "cell_type": "code",
   "execution_count": 108,
   "metadata": {},
   "outputs": [
    {
     "data": {
      "text/plain": [
       "0.9529411764705882"
      ]
     },
     "execution_count": 108,
     "metadata": {},
     "output_type": "execute_result"
    }
   ],
   "source": [
    "recall_score(y_test,y_pred)"
   ]
  },
  {
   "cell_type": "code",
   "execution_count": 109,
   "metadata": {},
   "outputs": [
    {
     "data": {
      "text/plain": [
       "0.8350515463917525"
      ]
     },
     "execution_count": 109,
     "metadata": {},
     "output_type": "execute_result"
    }
   ],
   "source": [
    "f1_score(y_test,y_pred)"
   ]
  },
  {
   "cell_type": "code",
   "execution_count": 110,
   "metadata": {},
   "outputs": [
    {
     "data": {
      "text/plain": [
       "0.6264705882352941"
      ]
     },
     "execution_count": 110,
     "metadata": {},
     "output_type": "execute_result"
    }
   ],
   "source": [
    "roc_auc_score(y_test,y_pred)"
   ]
  },
  {
   "cell_type": "code",
   "execution_count": 118,
   "metadata": {},
   "outputs": [
    {
     "data": {
      "text/plain": [
       "array([0.6722619 , 0.72607143, 0.70809524, 0.7372619 , 0.69595238])"
      ]
     },
     "execution_count": 118,
     "metadata": {},
     "output_type": "execute_result"
    }
   ],
   "source": [
    "clf_cv = LogisticRegression(max_iter=500)\n",
    "\n",
    "scores = cross_val_score(clf_cv, X, y, scoring='roc_auc', cv=5)\n",
    "scores"
   ]
  },
  {
   "cell_type": "code",
   "execution_count": 119,
   "metadata": {},
   "outputs": [
    {
     "data": {
      "text/plain": [
       "0.7079285714285715"
      ]
     },
     "execution_count": 119,
     "metadata": {},
     "output_type": "execute_result"
    }
   ],
   "source": [
    "scores.mean()"
   ]
  }
 ],
 "metadata": {
  "kernelspec": {
   "display_name": "Python 3",
   "language": "python",
   "name": "python3"
  },
  "language_info": {
   "codemirror_mode": {
    "name": "ipython",
    "version": 3
   },
   "file_extension": ".py",
   "mimetype": "text/x-python",
   "name": "python",
   "nbconvert_exporter": "python",
   "pygments_lexer": "ipython3",
   "version": "3.8.3"
  }
 },
 "nbformat": 4,
 "nbformat_minor": 2
}
